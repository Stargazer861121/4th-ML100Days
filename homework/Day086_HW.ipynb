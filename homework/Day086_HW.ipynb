{
 "cells": [
  {
   "cell_type": "markdown",
   "metadata": {},
   "source": [
    "## Work\n",
    "1. 試比較 save_best_only 與否的差異\n",
    "2. 請僅存入將 save_weights_only 設定為 True, 並嘗試 reset ipynb 並將模型與權重重新建回並預測 x_test"
   ]
  },
  {
   "cell_type": "code",
   "execution_count": 1,
   "metadata": {},
   "outputs": [],
   "source": [
    "import os\n",
    "import tensorflow.keras as keras\n",
    "import tensorflow as tf\n",
    "gpu_options = tf.compat.v1.GPUOptions(per_process_gpu_memory_fraction=0.7)  \n",
    "sess = tf.compat.v1.Session(config=tf.compat.v1.ConfigProto(gpu_options=gpu_options))"
   ]
  },
  {
   "cell_type": "code",
   "execution_count": 2,
   "metadata": {},
   "outputs": [],
   "source": [
    "train, test = keras.datasets.cifar10.load_data()"
   ]
  },
  {
   "cell_type": "code",
   "execution_count": 3,
   "metadata": {},
   "outputs": [],
   "source": [
    "## 資料前處理\n",
    "def preproc_x(x, flatten=True):\n",
    "    x = x / 255.\n",
    "    if flatten:\n",
    "        x = x.reshape((len(x), -1))\n",
    "    return x\n",
    "\n",
    "def preproc_y(y, num_classes=10):\n",
    "    if y.shape[-1] == 1:\n",
    "        y = keras.utils.to_categorical(y, num_classes)\n",
    "    return y    "
   ]
  },
  {
   "cell_type": "code",
   "execution_count": 4,
   "metadata": {},
   "outputs": [],
   "source": [
    "x_train, y_train = train\n",
    "x_test, y_test = test\n",
    "\n",
    "# Preproc the inputs\n",
    "x_train = preproc_x(x_train)\n",
    "x_test = preproc_x(x_test)\n",
    "\n",
    "# Preprc the outputs\n",
    "y_train = preproc_y(y_train)\n",
    "y_test = preproc_y(y_test)"
   ]
  },
  {
   "cell_type": "code",
   "execution_count": 5,
   "metadata": {},
   "outputs": [],
   "source": [
    "from tensorflow.keras.layers import BatchNormalization\n",
    "\n",
    "def build_mlp(input_shape, output_units=10, num_neurons=[512, 256, 128]):\n",
    "    input_layer = keras.layers.Input(input_shape)\n",
    "    \n",
    "    for i, n_units in enumerate(num_neurons):\n",
    "        if i == 0:\n",
    "            x = keras.layers.Dense(units=n_units, \n",
    "                                   activation=\"relu\", \n",
    "                                   name=\"hidden_layer\"+str(i+1))(input_layer)\n",
    "            x = BatchNormalization()(x)\n",
    "        else:\n",
    "            x = keras.layers.Dense(units=n_units, \n",
    "                                   activation=\"relu\", \n",
    "                                   name=\"hidden_layer\"+str(i+1))(x)\n",
    "            x = BatchNormalization()(x)\n",
    "    \n",
    "    out = keras.layers.Dense(units=output_units, activation=\"softmax\", name=\"output\")(x)\n",
    "    \n",
    "    model = keras.models.Model(inputs=[input_layer], outputs=[out])\n",
    "    return model"
   ]
  },
  {
   "cell_type": "code",
   "execution_count": 6,
   "metadata": {},
   "outputs": [],
   "source": [
    "LEARNING_RATE = 1e-3\n",
    "EPOCHS = 50\n",
    "BATCH_SIZE = 1024\n",
    "MOMENTUM = 0.95"
   ]
  },
  {
   "cell_type": "code",
   "execution_count": 7,
   "metadata": {},
   "outputs": [
    {
     "name": "stdout",
     "output_type": "stream",
     "text": [
      "Model: \"model\"\n",
      "_________________________________________________________________\n",
      "Layer (type)                 Output Shape              Param #   \n",
      "=================================================================\n",
      "input_1 (InputLayer)         [(None, 3072)]            0         \n",
      "_________________________________________________________________\n",
      "hidden_layer1 (Dense)        (None, 512)               1573376   \n",
      "_________________________________________________________________\n",
      "batch_normalization (BatchNo (None, 512)               2048      \n",
      "_________________________________________________________________\n",
      "hidden_layer2 (Dense)        (None, 256)               131328    \n",
      "_________________________________________________________________\n",
      "batch_normalization_1 (Batch (None, 256)               1024      \n",
      "_________________________________________________________________\n",
      "hidden_layer3 (Dense)        (None, 128)               32896     \n",
      "_________________________________________________________________\n",
      "batch_normalization_2 (Batch (None, 128)               512       \n",
      "_________________________________________________________________\n",
      "output (Dense)               (None, 10)                1290      \n",
      "=================================================================\n",
      "Total params: 1,742,474\n",
      "Trainable params: 1,740,682\n",
      "Non-trainable params: 1,792\n",
      "_________________________________________________________________\n",
      "Epoch 1/50\n",
      "49/49 [==============================] - 1s 13ms/step - loss: 2.2350 - accuracy: 0.2610 - val_loss: 2.1464 - val_accuracy: 0.2104\n",
      "Epoch 2/50\n",
      "49/49 [==============================] - 0s 9ms/step - loss: 1.7392 - accuracy: 0.3941 - val_loss: 1.9741 - val_accuracy: 0.2919\n",
      "Epoch 3/50\n",
      "49/49 [==============================] - 0s 9ms/step - loss: 1.6176 - accuracy: 0.4339 - val_loss: 1.8255 - val_accuracy: 0.3663\n",
      "Epoch 4/50\n",
      "49/49 [==============================] - 1s 11ms/step - loss: 1.5479 - accuracy: 0.4594 - val_loss: 1.7115 - val_accuracy: 0.4129\n",
      "Epoch 5/50\n",
      "49/49 [==============================] - 0s 10ms/step - loss: 1.4963 - accuracy: 0.4777 - val_loss: 1.6455 - val_accuracy: 0.4303\n",
      "Epoch 6/50\n",
      "49/49 [==============================] - 0s 10ms/step - loss: 1.4526 - accuracy: 0.4934 - val_loss: 1.5870 - val_accuracy: 0.4435\n",
      "Epoch 7/50\n",
      "49/49 [==============================] - 1s 11ms/step - loss: 1.4148 - accuracy: 0.5079 - val_loss: 1.5519 - val_accuracy: 0.4523\n",
      "Epoch 8/50\n",
      "49/49 [==============================] - 0s 10ms/step - loss: 1.3802 - accuracy: 0.5191 - val_loss: 1.5300 - val_accuracy: 0.4576\n",
      "Epoch 9/50\n",
      "49/49 [==============================] - 0s 10ms/step - loss: 1.3484 - accuracy: 0.5296 - val_loss: 1.5148 - val_accuracy: 0.4673\n",
      "Epoch 10/50\n",
      "49/49 [==============================] - 1s 11ms/step - loss: 1.3198 - accuracy: 0.5424 - val_loss: 1.4964 - val_accuracy: 0.4685\n",
      "Epoch 11/50\n",
      "49/49 [==============================] - 0s 9ms/step - loss: 1.2911 - accuracy: 0.5519 - val_loss: 1.4951 - val_accuracy: 0.4676\n",
      "Epoch 12/50\n",
      "49/49 [==============================] - 0s 9ms/step - loss: 1.2669 - accuracy: 0.5615 - val_loss: 1.4826 - val_accuracy: 0.4736\n",
      "Epoch 13/50\n",
      "49/49 [==============================] - 0s 10ms/step - loss: 1.2396 - accuracy: 0.5712 - val_loss: 1.4718 - val_accuracy: 0.4807\n",
      "Epoch 14/50\n",
      "49/49 [==============================] - 0s 10ms/step - loss: 1.2142 - accuracy: 0.5807 - val_loss: 1.4674 - val_accuracy: 0.4776\n",
      "Epoch 15/50\n",
      "49/49 [==============================] - 0s 9ms/step - loss: 1.1924 - accuracy: 0.5887 - val_loss: 1.4627 - val_accuracy: 0.4860\n",
      "Epoch 16/50\n",
      "49/49 [==============================] - 0s 10ms/step - loss: 1.1678 - accuracy: 0.5999 - val_loss: 1.4598 - val_accuracy: 0.4878\n",
      "Epoch 17/50\n",
      "49/49 [==============================] - 0s 9ms/step - loss: 1.1468 - accuracy: 0.6082 - val_loss: 1.4689 - val_accuracy: 0.4840\n",
      "Epoch 18/50\n",
      "49/49 [==============================] - 0s 9ms/step - loss: 1.1231 - accuracy: 0.6157 - val_loss: 1.4646 - val_accuracy: 0.4874\n",
      "Epoch 19/50\n",
      "49/49 [==============================] - 1s 12ms/step - loss: 1.1020 - accuracy: 0.6235 - val_loss: 1.4623 - val_accuracy: 0.4874\n",
      "Epoch 20/50\n",
      "49/49 [==============================] - 0s 9ms/step - loss: 1.0806 - accuracy: 0.6320 - val_loss: 1.4605 - val_accuracy: 0.4920\n",
      "Epoch 21/50\n",
      "49/49 [==============================] - 0s 9ms/step - loss: 1.0593 - accuracy: 0.6402 - val_loss: 1.4523 - val_accuracy: 0.4904\n",
      "Epoch 22/50\n",
      "49/49 [==============================] - 0s 10ms/step - loss: 1.0399 - accuracy: 0.6471 - val_loss: 1.4481 - val_accuracy: 0.4925\n",
      "Epoch 23/50\n",
      "49/49 [==============================] - 0s 9ms/step - loss: 1.0187 - accuracy: 0.6548 - val_loss: 1.4579 - val_accuracy: 0.4877\n",
      "Epoch 24/50\n",
      "49/49 [==============================] - 0s 9ms/step - loss: 0.9976 - accuracy: 0.6646 - val_loss: 1.4587 - val_accuracy: 0.4950\n",
      "Epoch 25/50\n",
      "49/49 [==============================] - 0s 9ms/step - loss: 0.9783 - accuracy: 0.6716 - val_loss: 1.4783 - val_accuracy: 0.4909\n",
      "Epoch 26/50\n",
      "49/49 [==============================] - 0s 10ms/step - loss: 0.9595 - accuracy: 0.6800 - val_loss: 1.4742 - val_accuracy: 0.4934\n",
      "Epoch 27/50\n",
      "49/49 [==============================] - 0s 9ms/step - loss: 0.9373 - accuracy: 0.6875 - val_loss: 1.4664 - val_accuracy: 0.4966\n",
      "Epoch 28/50\n",
      "49/49 [==============================] - 0s 9ms/step - loss: 0.9187 - accuracy: 0.6936 - val_loss: 1.4741 - val_accuracy: 0.4943\n",
      "Epoch 29/50\n",
      "49/49 [==============================] - 0s 10ms/step - loss: 0.9003 - accuracy: 0.6999 - val_loss: 1.4677 - val_accuracy: 0.4947\n",
      "Epoch 30/50\n",
      "49/49 [==============================] - 0s 9ms/step - loss: 0.8778 - accuracy: 0.7121 - val_loss: 1.4819 - val_accuracy: 0.4917\n",
      "Epoch 31/50\n",
      "49/49 [==============================] - 0s 9ms/step - loss: 0.8588 - accuracy: 0.7194 - val_loss: 1.4716 - val_accuracy: 0.4979\n",
      "Epoch 32/50\n",
      "49/49 [==============================] - 0s 10ms/step - loss: 0.8399 - accuracy: 0.7256 - val_loss: 1.4968 - val_accuracy: 0.4934\n",
      "Epoch 33/50\n",
      "49/49 [==============================] - 0s 9ms/step - loss: 0.8204 - accuracy: 0.7326 - val_loss: 1.4906 - val_accuracy: 0.4909\n",
      "Epoch 34/50\n",
      "49/49 [==============================] - 0s 9ms/step - loss: 0.8029 - accuracy: 0.7398 - val_loss: 1.4932 - val_accuracy: 0.4986\n",
      "Epoch 35/50\n",
      "49/49 [==============================] - 0s 10ms/step - loss: 0.7850 - accuracy: 0.7470 - val_loss: 1.5054 - val_accuracy: 0.4956\n",
      "Epoch 36/50\n",
      "49/49 [==============================] - 0s 9ms/step - loss: 0.7654 - accuracy: 0.7550 - val_loss: 1.5115 - val_accuracy: 0.4946\n",
      "Epoch 37/50\n",
      "49/49 [==============================] - 0s 9ms/step - loss: 0.7466 - accuracy: 0.7615 - val_loss: 1.5208 - val_accuracy: 0.5011\n",
      "Epoch 38/50\n",
      "49/49 [==============================] - 0s 10ms/step - loss: 0.7282 - accuracy: 0.7696 - val_loss: 1.5262 - val_accuracy: 0.4980\n",
      "Epoch 39/50\n",
      "49/49 [==============================] - 0s 9ms/step - loss: 0.7096 - accuracy: 0.7758 - val_loss: 1.5495 - val_accuracy: 0.4961\n",
      "Epoch 40/50\n",
      "49/49 [==============================] - 0s 9ms/step - loss: 0.6922 - accuracy: 0.7832 - val_loss: 1.5561 - val_accuracy: 0.4924\n",
      "Epoch 41/50\n",
      "49/49 [==============================] - 0s 10ms/step - loss: 0.6725 - accuracy: 0.7931 - val_loss: 1.5715 - val_accuracy: 0.4955\n",
      "Epoch 42/50\n",
      "49/49 [==============================] - 0s 9ms/step - loss: 0.6576 - accuracy: 0.7978 - val_loss: 1.5540 - val_accuracy: 0.4934\n",
      "Epoch 43/50\n",
      "49/49 [==============================] - 0s 9ms/step - loss: 0.6384 - accuracy: 0.8057 - val_loss: 1.5657 - val_accuracy: 0.4989\n",
      "Epoch 44/50\n",
      "49/49 [==============================] - 0s 9ms/step - loss: 0.6216 - accuracy: 0.8129 - val_loss: 1.5947 - val_accuracy: 0.4974\n",
      "Epoch 45/50\n",
      "49/49 [==============================] - 0s 10ms/step - loss: 0.6032 - accuracy: 0.8182 - val_loss: 1.6042 - val_accuracy: 0.4940\n",
      "Epoch 46/50\n",
      "49/49 [==============================] - 0s 9ms/step - loss: 0.5843 - accuracy: 0.8279 - val_loss: 1.6139 - val_accuracy: 0.4913\n",
      "Epoch 47/50\n",
      "49/49 [==============================] - 0s 9ms/step - loss: 0.5685 - accuracy: 0.8333 - val_loss: 1.6216 - val_accuracy: 0.4951\n",
      "Epoch 48/50\n",
      "49/49 [==============================] - 0s 10ms/step - loss: 0.5523 - accuracy: 0.8398 - val_loss: 1.6479 - val_accuracy: 0.4942\n"
     ]
    },
    {
     "name": "stdout",
     "output_type": "stream",
     "text": [
      "Epoch 49/50\n",
      "49/49 [==============================] - 0s 9ms/step - loss: 0.5363 - accuracy: 0.8462 - val_loss: 1.6603 - val_accuracy: 0.4882\n",
      "Epoch 50/50\n",
      "49/49 [==============================] - 0s 9ms/step - loss: 0.5205 - accuracy: 0.8504 - val_loss: 1.6988 - val_accuracy: 0.4848\n"
     ]
    }
   ],
   "source": [
    "# 載入 Callbacks\n",
    "\"\"\"Code Here\n",
    "設定 callbacks: model checkpoint\n",
    "\"\"\"\n",
    "from tensorflow.keras.callbacks import ModelCheckpoint\n",
    "\n",
    "model_ckpt = ModelCheckpoint(filepath = \"./tmp.h5\",\n",
    "                             monitor = \"val_loss\",\n",
    "                             save_weights_only=True)\n",
    "\n",
    "model = build_mlp(input_shape=x_train.shape[1:])\n",
    "model.summary()\n",
    "optimizer = keras.optimizers.SGD(lr=LEARNING_RATE, nesterov=True, momentum=MOMENTUM)\n",
    "model.compile(loss=\"categorical_crossentropy\", metrics=[\"accuracy\"], optimizer=optimizer)\n",
    "\n",
    "model.fit(x_train, y_train, \n",
    "          epochs=EPOCHS, \n",
    "          batch_size=BATCH_SIZE, \n",
    "          validation_data=(x_test, y_test), \n",
    "          shuffle=True,\n",
    "          callbacks=[model_ckpt]\n",
    "         )\n",
    "model.save(\"final_model.h5\")\n",
    "model.save_weights(\"model_weights.h5\")\n",
    "\n",
    "# Collect results\n",
    "train_loss = model.history.history[\"loss\"]\n",
    "valid_loss = model.history.history[\"val_loss\"]\n",
    "train_acc = model.history.history[\"accuracy\"]\n",
    "valid_acc = model.history.history[\"val_accuracy\"]\n"
   ]
  },
  {
   "cell_type": "code",
   "execution_count": 12,
   "metadata": {},
   "outputs": [],
   "source": [
    "pred_final = model.predict(x_test)\n",
    "# Load back\n",
    "model = keras.models.load_model(\"final_model.h5\")\n",
    "pred_loadback = model.predict(x_test)\n"
   ]
  },
  {
   "cell_type": "code",
   "execution_count": 13,
   "metadata": {
    "scrolled": true
   },
   "outputs": [
    {
     "name": "stdout",
     "output_type": "stream",
     "text": [
      "Accuracy of final weights: 0.485\n",
      "Accuracy of best weights: 0.485\n",
      "Accuracy of best weights: 0.123\n",
      "Accuracy of best weights: 0.485\n"
     ]
    }
   ],
   "source": [
    "from sklearn.metrics import accuracy_score\n",
    "\n",
    "final_model_acc = accuracy_score(y_true=y_test.argmax(axis=-1), y_pred=pred_final.argmax(axis=-1))\n",
    "loadback_acc = accuracy_score(y_true=y_test.argmax(axis=-1), y_pred=pred_loadback.argmax(axis=-1))\n",
    "\n",
    "print(\"Accuracy of final weights: %.3f\" % final_model_acc)\n",
    "print(\"Accuracy of best weights: %.3f\" % loadback_acc)\n",
    "\n",
    "new_model = build_mlp(input_shape=x_train.shape[1:])\n",
    "new_model_pred = new_model.predict(x_test)\n",
    "new_model_acc = accuracy_score(y_true=y_test.argmax(axis=-1), y_pred=new_model_pred.argmax(axis=-1))\n",
    "print(\"Accuracy of best weights: %.3f\" % new_model_acc)\n",
    "\n",
    "new_model.load_weights(\"./model_weights.h5\")\n",
    "new_model_pred = new_model.predict(x_test)\n",
    "new_model_loadback_acc = accuracy_score(y_true=y_test.argmax(axis=-1), y_pred=new_model_pred.argmax(axis=-1))\n",
    "print(\"Accuracy of best weights: %.3f\" % new_model_loadback_acc)"
   ]
  },
  {
   "cell_type": "code",
   "execution_count": null,
   "metadata": {},
   "outputs": [],
   "source": []
  }
 ],
 "metadata": {
  "kernelspec": {
   "display_name": "Python 3",
   "language": "python",
   "name": "python3"
  },
  "language_info": {
   "codemirror_mode": {
    "name": "ipython",
    "version": 3
   },
   "file_extension": ".py",
   "mimetype": "text/x-python",
   "name": "python",
   "nbconvert_exporter": "python",
   "pygments_lexer": "ipython3",
   "version": "3.7.3"
  }
 },
 "nbformat": 4,
 "nbformat_minor": 2
}

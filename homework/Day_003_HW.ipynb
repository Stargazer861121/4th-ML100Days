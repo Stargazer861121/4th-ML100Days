{
 "cells": [
  {
   "cell_type": "markdown",
   "metadata": {},
   "source": [
    "# 作業一\n",
    "增加機器識別透明物體的準確度\n",
    "\n",
    "# 作業二\n",
    "採用ClearGrasp演算法，在CNN的基礎下使用3個神經網絡：一個用於估計表面法線的網絡，一個用於遮擋邊界的網絡，另一個用於遮蓋透明對象的網絡。\n",
    "\n",
    "# 作業三\n",
    "Google AI blog\n",
    "https://ai.googleblog.com/2020/02/learning-to-see-transparent-objects.html"
   ]
  },
  {
   "cell_type": "code",
   "execution_count": null,
   "metadata": {},
   "outputs": [],
   "source": []
  }
 ],
 "metadata": {
  "kernelspec": {
   "display_name": "Python 3",
   "language": "python",
   "name": "python3"
  },
  "language_info": {
   "codemirror_mode": {
    "name": "ipython",
    "version": 3
   },
   "file_extension": ".py",
   "mimetype": "text/x-python",
   "name": "python",
   "nbconvert_exporter": "python",
   "pygments_lexer": "ipython3",
   "version": "3.7.3"
  }
 },
 "nbformat": 4,
 "nbformat_minor": 2
}
